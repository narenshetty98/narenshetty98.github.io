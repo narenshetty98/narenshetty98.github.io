{
 "cells": [
  {
   "cell_type": "code",
   "execution_count": 2,
   "metadata": {},
   "outputs": [
    {
     "name": "stdout",
     "output_type": "stream",
     "text": [
      "Defaulting to user installation because normal site-packages is not writeable\n",
      "Requirement already satisfied: altair in c:\\users\\naren\\appdata\\roaming\\python\\python311\\site-packages (5.4.1)\n",
      "Requirement already satisfied: jinja2 in c:\\users\\naren\\appdata\\roaming\\python\\python311\\site-packages (from altair) (3.1.2)\n",
      "Requirement already satisfied: jsonschema>=3.0 in c:\\users\\naren\\appdata\\roaming\\python\\python311\\site-packages (from altair) (4.17.3)\n",
      "Requirement already satisfied: narwhals>=1.5.2 in c:\\users\\naren\\appdata\\roaming\\python\\python311\\site-packages (from altair) (1.14.0)\n",
      "Requirement already satisfied: packaging in c:\\users\\naren\\appdata\\roaming\\python\\python311\\site-packages (from altair) (23.1)\n",
      "Requirement already satisfied: typing-extensions>=4.10.0 in c:\\users\\naren\\appdata\\roaming\\python\\python311\\site-packages (from altair) (4.11.0)\n",
      "Requirement already satisfied: attrs>=17.4.0 in c:\\users\\naren\\appdata\\roaming\\python\\python311\\site-packages (from jsonschema>=3.0->altair) (23.1.0)\n",
      "Requirement already satisfied: pyrsistent!=0.17.0,!=0.17.1,!=0.17.2,>=0.14.0 in c:\\users\\naren\\appdata\\roaming\\python\\python311\\site-packages (from jsonschema>=3.0->altair) (0.19.3)\n",
      "Requirement already satisfied: MarkupSafe>=2.0 in c:\\users\\naren\\appdata\\roaming\\python\\python311\\site-packages (from jinja2->altair) (2.1.3)\n"
     ]
    },
    {
     "name": "stderr",
     "output_type": "stream",
     "text": [
      "\n",
      "[notice] A new release of pip is available: 23.1.2 -> 24.3.1\n",
      "[notice] To update, run: python.exe -m pip install --upgrade pip\n"
     ]
    }
   ],
   "source": [
    "!pip install altair\n"
   ]
  },
  {
   "cell_type": "code",
   "execution_count": 13,
   "metadata": {},
   "outputs": [],
   "source": [
    "import pandas as pd\n",
    "\n",
    "# Load the dataset\n",
    "DATA_URL = \"https://raw.githubusercontent.com/narenshetty98/narenshetty98.github.io/main/assets/building_inventory.csv\"\n",
    "df = pd.read_csv(DATA_URL)\n",
    "\n",
    "# Data cleaning\n",
    "df = df.dropna(subset=['Year Acquired', 'Square Footage', 'Usage Description'])\n",
    "df['Year Acquired'] = pd.to_numeric(df['Year Acquired'], errors='coerce')\n",
    "df['Square Footage'] = pd.to_numeric(df['Square Footage'], errors='coerce')\n",
    "df['Total Floors'] = pd.to_numeric(df['Total Floors'], errors='coerce')\n",
    "df = df[df['Year Acquired'] >= 1800]  # Filter valid years\n",
    "\n"
   ]
  },
  {
   "cell_type": "markdown",
   "metadata": {},
   "source": [
    "# **Visualisation 1**"
   ]
  },
  {
   "cell_type": "markdown",
   "metadata": {},
   "source": [
    "**Static Line Chart - Average number of floors acquired by year**"
   ]
  },
  {
   "cell_type": "code",
   "execution_count": 14,
   "metadata": {},
   "outputs": [
    {
     "data": {
      "text/html": [
       "\n",
       "<style>\n",
       "  #altair-viz-12d0f411133348d78af1f3b4cf41995e.vega-embed {\n",
       "    width: 100%;\n",
       "    display: flex;\n",
       "  }\n",
       "\n",
       "  #altair-viz-12d0f411133348d78af1f3b4cf41995e.vega-embed details,\n",
       "  #altair-viz-12d0f411133348d78af1f3b4cf41995e.vega-embed details summary {\n",
       "    position: relative;\n",
       "  }\n",
       "</style>\n",
       "<div id=\"altair-viz-12d0f411133348d78af1f3b4cf41995e\"></div>\n",
       "<script type=\"text/javascript\">\n",
       "  var VEGA_DEBUG = (typeof VEGA_DEBUG == \"undefined\") ? {} : VEGA_DEBUG;\n",
       "  (function(spec, embedOpt){\n",
       "    let outputDiv = document.currentScript.previousElementSibling;\n",
       "    if (outputDiv.id !== \"altair-viz-12d0f411133348d78af1f3b4cf41995e\") {\n",
       "      outputDiv = document.getElementById(\"altair-viz-12d0f411133348d78af1f3b4cf41995e\");\n",
       "    }\n",
       "    const paths = {\n",
       "      \"vega\": \"https://cdn.jsdelivr.net/npm/vega@5?noext\",\n",
       "      \"vega-lib\": \"https://cdn.jsdelivr.net/npm/vega-lib?noext\",\n",
       "      \"vega-lite\": \"https://cdn.jsdelivr.net/npm/vega-lite@5.20.1?noext\",\n",
       "      \"vega-embed\": \"https://cdn.jsdelivr.net/npm/vega-embed@6?noext\",\n",
       "    };\n",
       "\n",
       "    function maybeLoadScript(lib, version) {\n",
       "      var key = `${lib.replace(\"-\", \"\")}_version`;\n",
       "      return (VEGA_DEBUG[key] == version) ?\n",
       "        Promise.resolve(paths[lib]) :\n",
       "        new Promise(function(resolve, reject) {\n",
       "          var s = document.createElement('script');\n",
       "          document.getElementsByTagName(\"head\")[0].appendChild(s);\n",
       "          s.async = true;\n",
       "          s.onload = () => {\n",
       "            VEGA_DEBUG[key] = version;\n",
       "            return resolve(paths[lib]);\n",
       "          };\n",
       "          s.onerror = () => reject(`Error loading script: ${paths[lib]}`);\n",
       "          s.src = paths[lib];\n",
       "        });\n",
       "    }\n",
       "\n",
       "    function showError(err) {\n",
       "      outputDiv.innerHTML = `<div class=\"error\" style=\"color:red;\">${err}</div>`;\n",
       "      throw err;\n",
       "    }\n",
       "\n",
       "    function displayChart(vegaEmbed) {\n",
       "      vegaEmbed(outputDiv, spec, embedOpt)\n",
       "        .catch(err => showError(`Javascript Error: ${err.message}<br>This usually means there's a typo in your chart specification. See the javascript console for the full traceback.`));\n",
       "    }\n",
       "\n",
       "    if(typeof define === \"function\" && define.amd) {\n",
       "      requirejs.config({paths});\n",
       "      require([\"vega-embed\"], displayChart, err => showError(`Error loading script: ${err.message}`));\n",
       "    } else {\n",
       "      maybeLoadScript(\"vega\", \"5\")\n",
       "        .then(() => maybeLoadScript(\"vega-lite\", \"5.20.1\"))\n",
       "        .then(() => maybeLoadScript(\"vega-embed\", \"6\"))\n",
       "        .catch(showError)\n",
       "        .then(() => displayChart(vegaEmbed));\n",
       "    }\n",
       "  })({\"config\": {\"view\": {\"continuousWidth\": 300, \"continuousHeight\": 300}}, \"data\": {\"name\": \"data-febeed648b2e26daed95f482c84b98d8\"}, \"mark\": {\"type\": \"line\", \"point\": true}, \"encoding\": {\"tooltip\": [{\"field\": \"Year Acquired\", \"type\": \"quantitative\"}, {\"field\": \"Total Floors\", \"type\": \"quantitative\"}], \"x\": {\"field\": \"Year Acquired\", \"title\": \"Year Acquired\", \"type\": \"quantitative\"}, \"y\": {\"field\": \"Total Floors\", \"title\": \"Average Number of Floors\", \"type\": \"quantitative\"}}, \"height\": 400, \"title\": \"Static Line Chart: Average Number of Floors in Buildings Acquired by Year\", \"width\": 700, \"$schema\": \"https://vega.github.io/schema/vega-lite/v5.20.1.json\", \"datasets\": {\"data-febeed648b2e26daed95f482c84b98d8\": [{\"Year Acquired\": 1802, \"Total Floors\": 2.0}, {\"Year Acquired\": 1810, \"Total Floors\": 1.6666666666666667}, {\"Year Acquired\": 1832, \"Total Floors\": 2.0}, {\"Year Acquired\": 1837, \"Total Floors\": 4.0}, {\"Year Acquired\": 1838, \"Total Floors\": 4.0}, {\"Year Acquired\": 1839, \"Total Floors\": 4.0}, {\"Year Acquired\": 1840, \"Total Floors\": 2.625}, {\"Year Acquired\": 1841, \"Total Floors\": 4.0}, {\"Year Acquired\": 1843, \"Total Floors\": 2.0}, {\"Year Acquired\": 1844, \"Total Floors\": 5.0}, {\"Year Acquired\": 1845, \"Total Floors\": 4.666666666666667}, {\"Year Acquired\": 1848, \"Total Floors\": 4.0}, {\"Year Acquired\": 1850, \"Total Floors\": 2.5}, {\"Year Acquired\": 1853, \"Total Floors\": 8.0}, {\"Year Acquired\": 1854, \"Total Floors\": 4.0}, {\"Year Acquired\": 1855, \"Total Floors\": 2.8333333333333335}, {\"Year Acquired\": 1856, \"Total Floors\": 1.0}, {\"Year Acquired\": 1857, \"Total Floors\": 4.0}, {\"Year Acquired\": 1858, \"Total Floors\": 3.0}, {\"Year Acquired\": 1859, \"Total Floors\": 4.0}, {\"Year Acquired\": 1860, \"Total Floors\": 1.6666666666666667}, {\"Year Acquired\": 1863, \"Total Floors\": 5.0}, {\"Year Acquired\": 1865, \"Total Floors\": 2.2222222222222223}, {\"Year Acquired\": 1867, \"Total Floors\": 2.0}, {\"Year Acquired\": 1870, \"Total Floors\": 4.0}, {\"Year Acquired\": 1871, \"Total Floors\": 1.2}, {\"Year Acquired\": 1872, \"Total Floors\": 5.0}, {\"Year Acquired\": 1873, \"Total Floors\": 5.0}, {\"Year Acquired\": 1874, \"Total Floors\": 1.0}, {\"Year Acquired\": 1875, \"Total Floors\": 2.6666666666666665}, {\"Year Acquired\": 1876, \"Total Floors\": 3.0}, {\"Year Acquired\": 1878, \"Total Floors\": 5.0}, {\"Year Acquired\": 1880, \"Total Floors\": 4.25}, {\"Year Acquired\": 1881, \"Total Floors\": 3.0}, {\"Year Acquired\": 1882, \"Total Floors\": 4.0}, {\"Year Acquired\": 1883, \"Total Floors\": 2.5}, {\"Year Acquired\": 1885, \"Total Floors\": 2.25}, {\"Year Acquired\": 1886, \"Total Floors\": 2.6153846153846154}, {\"Year Acquired\": 1887, \"Total Floors\": 6.5}, {\"Year Acquired\": 1888, \"Total Floors\": 4.0}, {\"Year Acquired\": 1890, \"Total Floors\": 2.142857142857143}, {\"Year Acquired\": 1891, \"Total Floors\": 4.0}, {\"Year Acquired\": 1892, \"Total Floors\": 4.0}, {\"Year Acquired\": 1893, \"Total Floors\": 1.6666666666666667}, {\"Year Acquired\": 1894, \"Total Floors\": 2.0}, {\"Year Acquired\": 1895, \"Total Floors\": 3.7142857142857144}, {\"Year Acquired\": 1896, \"Total Floors\": 5.5}, {\"Year Acquired\": 1897, \"Total Floors\": 6.0}, {\"Year Acquired\": 1898, \"Total Floors\": 3.5}, {\"Year Acquired\": 1899, \"Total Floors\": 6.0}, {\"Year Acquired\": 1900, \"Total Floors\": 2.740740740740741}, {\"Year Acquired\": 1901, \"Total Floors\": 3.6666666666666665}, {\"Year Acquired\": 1902, \"Total Floors\": 3.25}, {\"Year Acquired\": 1903, \"Total Floors\": 2.8333333333333335}, {\"Year Acquired\": 1904, \"Total Floors\": 2.7142857142857144}, {\"Year Acquired\": 1905, \"Total Floors\": 3.230769230769231}, {\"Year Acquired\": 1906, \"Total Floors\": 3.0}, {\"Year Acquired\": 1907, \"Total Floors\": 3.0}, {\"Year Acquired\": 1908, \"Total Floors\": 4.090909090909091}, {\"Year Acquired\": 1909, \"Total Floors\": 4.142857142857143}, {\"Year Acquired\": 1910, \"Total Floors\": 2.090909090909091}, {\"Year Acquired\": 1911, \"Total Floors\": 3.75}, {\"Year Acquired\": 1912, \"Total Floors\": 3.5555555555555554}, {\"Year Acquired\": 1913, \"Total Floors\": 1.8235294117647058}, {\"Year Acquired\": 1914, \"Total Floors\": 4.5}, {\"Year Acquired\": 1915, \"Total Floors\": 3.375}, {\"Year Acquired\": 1916, \"Total Floors\": 2.8181818181818183}, {\"Year Acquired\": 1917, \"Total Floors\": 3.5}, {\"Year Acquired\": 1918, \"Total Floors\": 3.0}, {\"Year Acquired\": 1919, \"Total Floors\": 3.3333333333333335}, {\"Year Acquired\": 1920, \"Total Floors\": 2.6842105263157894}, {\"Year Acquired\": 1921, \"Total Floors\": 1.6111111111111112}, {\"Year Acquired\": 1922, \"Total Floors\": 3.3}, {\"Year Acquired\": 1923, \"Total Floors\": 4.153846153846154}, {\"Year Acquired\": 1924, \"Total Floors\": 2.625}, {\"Year Acquired\": 1925, \"Total Floors\": 3.3076923076923075}, {\"Year Acquired\": 1926, \"Total Floors\": 3.411764705882353}, {\"Year Acquired\": 1927, \"Total Floors\": 3.8333333333333335}, {\"Year Acquired\": 1928, \"Total Floors\": 2.5}, {\"Year Acquired\": 1929, \"Total Floors\": 3.1621621621621623}, {\"Year Acquired\": 1930, \"Total Floors\": 2.0495049504950495}, {\"Year Acquired\": 1931, \"Total Floors\": 3.8275862068965516}, {\"Year Acquired\": 1932, \"Total Floors\": 1.85}, {\"Year Acquired\": 1933, \"Total Floors\": 2.2222222222222223}, {\"Year Acquired\": 1934, \"Total Floors\": 2.4615384615384617}, {\"Year Acquired\": 1935, \"Total Floors\": 1.4766355140186915}, {\"Year Acquired\": 1936, \"Total Floors\": 2.216666666666667}, {\"Year Acquired\": 1937, \"Total Floors\": 2.5384615384615383}, {\"Year Acquired\": 1938, \"Total Floors\": 3.46875}, {\"Year Acquired\": 1939, \"Total Floors\": 2.3333333333333335}, {\"Year Acquired\": 1940, \"Total Floors\": 2.1791044776119404}, {\"Year Acquired\": 1941, \"Total Floors\": 1.9259259259259258}, {\"Year Acquired\": 1942, \"Total Floors\": 2.08}, {\"Year Acquired\": 1943, \"Total Floors\": 2.4444444444444446}, {\"Year Acquired\": 1944, \"Total Floors\": 2.2}, {\"Year Acquired\": 1945, \"Total Floors\": 1.85}, {\"Year Acquired\": 1946, \"Total Floors\": 1.875}, {\"Year Acquired\": 1947, \"Total Floors\": 1.45}, {\"Year Acquired\": 1948, \"Total Floors\": 1.7777777777777777}, {\"Year Acquired\": 1949, \"Total Floors\": 2.175}, {\"Year Acquired\": 1950, \"Total Floors\": 1.4628571428571429}, {\"Year Acquired\": 1951, \"Total Floors\": 2.5384615384615383}, {\"Year Acquired\": 1952, \"Total Floors\": 2.9318181818181817}, {\"Year Acquired\": 1953, \"Total Floors\": 1.6307692307692307}, {\"Year Acquired\": 1954, \"Total Floors\": 1.726027397260274}, {\"Year Acquired\": 1955, \"Total Floors\": 1.7076923076923076}, {\"Year Acquired\": 1956, \"Total Floors\": 2.1666666666666665}, {\"Year Acquired\": 1957, \"Total Floors\": 2.017857142857143}, {\"Year Acquired\": 1958, \"Total Floors\": 1.641304347826087}, {\"Year Acquired\": 1959, \"Total Floors\": 2.111111111111111}, {\"Year Acquired\": 1960, \"Total Floors\": 1.5845070422535212}, {\"Year Acquired\": 1961, \"Total Floors\": 1.9215686274509804}, {\"Year Acquired\": 1962, \"Total Floors\": 2.2916666666666665}, {\"Year Acquired\": 1963, \"Total Floors\": 2.06140350877193}, {\"Year Acquired\": 1964, \"Total Floors\": 2.046153846153846}, {\"Year Acquired\": 1965, \"Total Floors\": 2.3583815028901736}, {\"Year Acquired\": 1966, \"Total Floors\": 2.8181818181818183}, {\"Year Acquired\": 1967, \"Total Floors\": 2.1452991452991452}, {\"Year Acquired\": 1968, \"Total Floors\": 1.7258064516129032}, {\"Year Acquired\": 1969, \"Total Floors\": 2.338709677419355}, {\"Year Acquired\": 1970, \"Total Floors\": 1.5185185185185186}, {\"Year Acquired\": 1971, \"Total Floors\": 2.522935779816514}, {\"Year Acquired\": 1972, \"Total Floors\": 1.6859504132231404}, {\"Year Acquired\": 1973, \"Total Floors\": 1.384}, {\"Year Acquired\": 1974, \"Total Floors\": 1.1927083333333333}, {\"Year Acquired\": 1975, \"Total Floors\": 1.3991596638655461}, {\"Year Acquired\": 1976, \"Total Floors\": 1.3237410071942446}, {\"Year Acquired\": 1977, \"Total Floors\": 1.316326530612245}, {\"Year Acquired\": 1978, \"Total Floors\": 1.4050632911392404}, {\"Year Acquired\": 1979, \"Total Floors\": 1.4224137931034482}, {\"Year Acquired\": 1980, \"Total Floors\": 1.1764705882352942}, {\"Year Acquired\": 1981, \"Total Floors\": 1.2685714285714285}, {\"Year Acquired\": 1982, \"Total Floors\": 1.3375}, {\"Year Acquired\": 1983, \"Total Floors\": 1.6785714285714286}, {\"Year Acquired\": 1984, \"Total Floors\": 1.5182481751824817}, {\"Year Acquired\": 1985, \"Total Floors\": 1.385135135135135}, {\"Year Acquired\": 1986, \"Total Floors\": 1.1538461538461537}, {\"Year Acquired\": 1987, \"Total Floors\": 1.2893081761006289}, {\"Year Acquired\": 1988, \"Total Floors\": 1.1594202898550725}, {\"Year Acquired\": 1989, \"Total Floors\": 1.3020833333333333}, {\"Year Acquired\": 1990, \"Total Floors\": 1.3010752688172043}, {\"Year Acquired\": 1991, \"Total Floors\": 1.35}, {\"Year Acquired\": 1992, \"Total Floors\": 1.3153153153153154}, {\"Year Acquired\": 1993, \"Total Floors\": 1.2087912087912087}, {\"Year Acquired\": 1994, \"Total Floors\": 1.0825688073394495}, {\"Year Acquired\": 1995, \"Total Floors\": 1.1885245901639345}, {\"Year Acquired\": 1996, \"Total Floors\": 1.2753623188405796}, {\"Year Acquired\": 1997, \"Total Floors\": 1.3693693693693694}, {\"Year Acquired\": 1998, \"Total Floors\": 1.1370967741935485}, {\"Year Acquired\": 1999, \"Total Floors\": 1.111842105263158}, {\"Year Acquired\": 2000, \"Total Floors\": 1.1596638655462186}, {\"Year Acquired\": 2001, \"Total Floors\": 1.239766081871345}, {\"Year Acquired\": 2002, \"Total Floors\": 1.3103448275862069}, {\"Year Acquired\": 2003, \"Total Floors\": 1.2211538461538463}, {\"Year Acquired\": 2004, \"Total Floors\": 1.4430379746835442}, {\"Year Acquired\": 2005, \"Total Floors\": 1.5466666666666666}, {\"Year Acquired\": 2006, \"Total Floors\": 1.0880829015544042}, {\"Year Acquired\": 2007, \"Total Floors\": 2.5238095238095237}, {\"Year Acquired\": 2008, \"Total Floors\": 1.5454545454545454}, {\"Year Acquired\": 2009, \"Total Floors\": 1.4}, {\"Year Acquired\": 2010, \"Total Floors\": 1.4090909090909092}, {\"Year Acquired\": 2011, \"Total Floors\": 1.3043478260869565}, {\"Year Acquired\": 2012, \"Total Floors\": 1.173913043478261}, {\"Year Acquired\": 2013, \"Total Floors\": 1.625}, {\"Year Acquired\": 2014, \"Total Floors\": 1.2121212121212122}, {\"Year Acquired\": 2015, \"Total Floors\": 1.55}, {\"Year Acquired\": 2016, \"Total Floors\": 1.6}, {\"Year Acquired\": 2017, \"Total Floors\": 1.0}, {\"Year Acquired\": 2018, \"Total Floors\": 1.0}, {\"Year Acquired\": 2019, \"Total Floors\": 1.0}]}}, {\"mode\": \"vega-lite\"});\n",
       "</script>"
      ],
      "text/plain": [
       "alt.Chart(...)"
      ]
     },
     "execution_count": 14,
     "metadata": {},
     "output_type": "execute_result"
    }
   ],
   "source": [
    "import altair as alt\n",
    "\n",
    "# Aggregate data for the line chart\n",
    "line_data = df.groupby('Year Acquired').agg({'Total Floors': 'mean'}).reset_index()\n",
    "\n",
    "# Create the line chart\n",
    "line_chart = alt.Chart(line_data).mark_line(point=True).encode(\n",
    "    x=alt.X('Year Acquired:Q', title='Year Acquired'),\n",
    "    y=alt.Y('Total Floors:Q', title='Average Number of Floors'),\n",
    "    tooltip=['Year Acquired', 'Total Floors']\n",
    ").properties(\n",
    "    title=\"Static Line Chart: Average Number of Floors in Buildings Acquired by Year\",\n",
    "    width=700,\n",
    "    height=400\n",
    ")\n",
    "\n",
    "# Save the chart as an HTML file\n",
    "line_chart.save(\"C:\\\\Users\\\\naren\\\\Desktop\\\\Data visualisation Files\\\\line_chart.json\")\n",
    "\n",
    "line_chart\n"
   ]
  },
  {
   "cell_type": "markdown",
   "metadata": {},
   "source": [
    "# **Visualisation 2**"
   ]
  },
  {
   "cell_type": "markdown",
   "metadata": {},
   "source": [
    "**Interactive Bar Chart: Top 10 Counties by Building Count (Filtered by Usage Description)**"
   ]
  },
  {
   "cell_type": "code",
   "execution_count": 15,
   "metadata": {},
   "outputs": [
    {
     "name": "stderr",
     "output_type": "stream",
     "text": [
      "C:\\Users\\naren\\AppData\\Local\\Temp\\ipykernel_28292\\594252750.py:19: AltairDeprecationWarning: Deprecated in `altair=5.0.0`. Use add_params instead.\n",
      "  ).add_selection(\n"
     ]
    },
    {
     "data": {
      "text/html": [
       "\n",
       "<style>\n",
       "  #altair-viz-cda0ce62f0d74f45b15a986766f35f73.vega-embed {\n",
       "    width: 100%;\n",
       "    display: flex;\n",
       "  }\n",
       "\n",
       "  #altair-viz-cda0ce62f0d74f45b15a986766f35f73.vega-embed details,\n",
       "  #altair-viz-cda0ce62f0d74f45b15a986766f35f73.vega-embed details summary {\n",
       "    position: relative;\n",
       "  }\n",
       "</style>\n",
       "<div id=\"altair-viz-cda0ce62f0d74f45b15a986766f35f73\"></div>\n",
       "<script type=\"text/javascript\">\n",
       "  var VEGA_DEBUG = (typeof VEGA_DEBUG == \"undefined\") ? {} : VEGA_DEBUG;\n",
       "  (function(spec, embedOpt){\n",
       "    let outputDiv = document.currentScript.previousElementSibling;\n",
       "    if (outputDiv.id !== \"altair-viz-cda0ce62f0d74f45b15a986766f35f73\") {\n",
       "      outputDiv = document.getElementById(\"altair-viz-cda0ce62f0d74f45b15a986766f35f73\");\n",
       "    }\n",
       "    const paths = {\n",
       "      \"vega\": \"https://cdn.jsdelivr.net/npm/vega@5?noext\",\n",
       "      \"vega-lib\": \"https://cdn.jsdelivr.net/npm/vega-lib?noext\",\n",
       "      \"vega-lite\": \"https://cdn.jsdelivr.net/npm/vega-lite@5.20.1?noext\",\n",
       "      \"vega-embed\": \"https://cdn.jsdelivr.net/npm/vega-embed@6?noext\",\n",
       "    };\n",
       "\n",
       "    function maybeLoadScript(lib, version) {\n",
       "      var key = `${lib.replace(\"-\", \"\")}_version`;\n",
       "      return (VEGA_DEBUG[key] == version) ?\n",
       "        Promise.resolve(paths[lib]) :\n",
       "        new Promise(function(resolve, reject) {\n",
       "          var s = document.createElement('script');\n",
       "          document.getElementsByTagName(\"head\")[0].appendChild(s);\n",
       "          s.async = true;\n",
       "          s.onload = () => {\n",
       "            VEGA_DEBUG[key] = version;\n",
       "            return resolve(paths[lib]);\n",
       "          };\n",
       "          s.onerror = () => reject(`Error loading script: ${paths[lib]}`);\n",
       "          s.src = paths[lib];\n",
       "        });\n",
       "    }\n",
       "\n",
       "    function showError(err) {\n",
       "      outputDiv.innerHTML = `<div class=\"error\" style=\"color:red;\">${err}</div>`;\n",
       "      throw err;\n",
       "    }\n",
       "\n",
       "    function displayChart(vegaEmbed) {\n",
       "      vegaEmbed(outputDiv, spec, embedOpt)\n",
       "        .catch(err => showError(`Javascript Error: ${err.message}<br>This usually means there's a typo in your chart specification. See the javascript console for the full traceback.`));\n",
       "    }\n",
       "\n",
       "    if(typeof define === \"function\" && define.amd) {\n",
       "      requirejs.config({paths});\n",
       "      require([\"vega-embed\"], displayChart, err => showError(`Error loading script: ${err.message}`));\n",
       "    } else {\n",
       "      maybeLoadScript(\"vega\", \"5\")\n",
       "        .then(() => maybeLoadScript(\"vega-lite\", \"5.20.1\"))\n",
       "        .then(() => maybeLoadScript(\"vega-embed\", \"6\"))\n",
       "        .catch(showError)\n",
       "        .then(() => displayChart(vegaEmbed));\n",
       "    }\n",
       "  })({\"config\": {\"view\": {\"continuousWidth\": 300, \"continuousHeight\": 300}}, \"data\": {\"name\": \"data-6d218c9bb2f7edc3fcae49158ecf2249\"}, \"mark\": {\"type\": \"bar\"}, \"encoding\": {\"color\": {\"field\": \"Usage Description\", \"title\": \"Usage Description\", \"type\": \"nominal\"}, \"tooltip\": [{\"field\": \"County\", \"type\": \"nominal\"}, {\"field\": \"Building Count\", \"type\": \"quantitative\"}, {\"field\": \"Usage Description\", \"type\": \"nominal\"}], \"x\": {\"field\": \"Building Count\", \"title\": \"Number of Buildings\", \"type\": \"quantitative\"}, \"y\": {\"field\": \"County\", \"sort\": \"-x\", \"title\": \"County\", \"type\": \"nominal\"}}, \"height\": 400, \"params\": [{\"name\": \"param_3\", \"select\": {\"type\": \"point\", \"fields\": [\"Usage Description\"]}, \"bind\": {\"input\": \"select\", \"options\": [\"Unusual\", \"Storage\", \"Assembly\", \"Industrial\", \"Health Care\", \"Business\", \"Education\", \"Mercantile\", \"Residential\", \"Detention & Correc\", \"Utiility & Miscellan\", \"Not provided\", \"Public\"], \"name\": \"Filter by Usage:\"}}], \"title\": \"Interactive Top 10 Counties by Building Count (Filtered by Usage Description)\", \"transform\": [{\"filter\": {\"param\": \"param_3\"}}], \"width\": 700, \"$schema\": \"https://vega.github.io/schema/vega-lite/v5.20.1.json\", \"datasets\": {\"data-6d218c9bb2f7edc3fcae49158ecf2249\": [{\"County\": \"Cook\", \"Usage Description\": \"Assembly\", \"Building Count\": 47}, {\"County\": \"Champaign\", \"Usage Description\": \"Assembly\", \"Building Count\": 45}, {\"County\": \"Menard\", \"Usage Description\": \"Assembly\", \"Building Count\": 45}, {\"County\": \"Sangamon\", \"Usage Description\": \"Assembly\", \"Building Count\": 44}, {\"County\": \"Jackson\", \"Usage Description\": \"Assembly\", \"Building Count\": 36}, {\"County\": \"Coles\", \"Usage Description\": \"Assembly\", \"Building Count\": 35}, {\"County\": \"Randolph\", \"Usage Description\": \"Assembly\", \"Building Count\": 34}, {\"County\": \"McLean\", \"Usage Description\": \"Assembly\", \"Building Count\": 33}, {\"County\": \"Madison\", \"Usage Description\": \"Assembly\", \"Building Count\": 29}, {\"County\": \"Cass\", \"Usage Description\": \"Assembly\", \"Building Count\": 28}, {\"County\": \"Champaign\", \"Usage Description\": \"Business\", \"Building Count\": 85}, {\"County\": \"Sangamon\", \"Usage Description\": \"Business\", \"Building Count\": 78}, {\"County\": \"Cook\", \"Usage Description\": \"Business\", \"Building Count\": 53}, {\"County\": \"Jackson\", \"Usage Description\": \"Business\", \"Building Count\": 31}, {\"County\": \"McLean\", \"Usage Description\": \"Business\", \"Building Count\": 31}, {\"County\": \"Will\", \"Usage Description\": \"Business\", \"Building Count\": 28}, {\"County\": \"DeKalb\", \"Usage Description\": \"Business\", \"Building Count\": 27}, {\"County\": \"LaSalle\", \"Usage Description\": \"Business\", \"Building Count\": 22}, {\"County\": \"Lake\", \"Usage Description\": \"Business\", \"Building Count\": 22}, {\"County\": \"Madison\", \"Usage Description\": \"Business\", \"Building Count\": 20}, {\"County\": \"Will\", \"Usage Description\": \"Detention & Correc\", \"Building Count\": 65}, {\"County\": \"Randolph\", \"Usage Description\": \"Detention & Correc\", \"Building Count\": 63}, {\"County\": \"Livingston\", \"Usage Description\": \"Detention & Correc\", \"Building Count\": 62}, {\"County\": \"Lee\", \"Usage Description\": \"Detention & Correc\", \"Building Count\": 55}, {\"County\": \"Logan\", \"Usage Description\": \"Detention & Correc\", \"Building Count\": 46}, {\"County\": \"Montgomery\", \"Usage Description\": \"Detention & Correc\", \"Building Count\": 28}, {\"County\": \"Perry\", \"Usage Description\": \"Detention & Correc\", \"Building Count\": 28}, {\"County\": \"Clinton\", \"Usage Description\": \"Detention & Correc\", \"Building Count\": 26}, {\"County\": \"Johnson\", \"Usage Description\": \"Detention & Correc\", \"Building Count\": 26}, {\"County\": \"Lawrence\", \"Usage Description\": \"Detention & Correc\", \"Building Count\": 26}, {\"County\": \"Jackson\", \"Usage Description\": \"Education\", \"Building Count\": 50}, {\"County\": \"Cook\", \"Usage Description\": \"Education\", \"Building Count\": 39}, {\"County\": \"Champaign\", \"Usage Description\": \"Education\", \"Building Count\": 19}, {\"County\": \"DeKalb\", \"Usage Description\": \"Education\", \"Building Count\": 13}, {\"County\": \"Madison\", \"Usage Description\": \"Education\", \"Building Count\": 13}, {\"County\": \"Livingston\", \"Usage Description\": \"Education\", \"Building Count\": 9}, {\"County\": \"Morgan\", \"Usage Description\": \"Education\", \"Building Count\": 9}, {\"County\": \"McLean\", \"Usage Description\": \"Education\", \"Building Count\": 8}, {\"County\": \"DuPage\", \"Usage Description\": \"Education\", \"Building Count\": 7}, {\"County\": \"St. Clair\", \"Usage Description\": \"Education\", \"Building Count\": 7}, {\"County\": \"Cook\", \"Usage Description\": \"Health Care\", \"Building Count\": 172}, {\"County\": \"Lake\", \"Usage Description\": \"Health Care\", \"Building Count\": 48}, {\"County\": \"Kankakee\", \"Usage Description\": \"Health Care\", \"Building Count\": 21}, {\"County\": \"Union\", \"Usage Description\": \"Health Care\", \"Building Count\": 15}, {\"County\": \"Kane\", \"Usage Description\": \"Health Care\", \"Building Count\": 14}, {\"County\": \"Clinton\", \"Usage Description\": \"Health Care\", \"Building Count\": 10}, {\"County\": \"Logan\", \"Usage Description\": \"Health Care\", \"Building Count\": 10}, {\"County\": \"Madison\", \"Usage Description\": \"Health Care\", \"Building Count\": 10}, {\"County\": \"Adams\", \"Usage Description\": \"Health Care\", \"Building Count\": 8}, {\"County\": \"Sangamon\", \"Usage Description\": \"Health Care\", \"Building Count\": 8}, {\"County\": \"Randolph\", \"Usage Description\": \"Industrial\", \"Building Count\": 150}, {\"County\": \"Champaign\", \"Usage Description\": \"Industrial\", \"Building Count\": 125}, {\"County\": \"Cook\", \"Usage Description\": \"Industrial\", \"Building Count\": 96}, {\"County\": \"Will\", \"Usage Description\": \"Industrial\", \"Building Count\": 53}, {\"County\": \"Sangamon\", \"Usage Description\": \"Industrial\", \"Building Count\": 51}, {\"County\": \"LaSalle\", \"Usage Description\": \"Industrial\", \"Building Count\": 47}, {\"County\": \"Jackson\", \"Usage Description\": \"Industrial\", \"Building Count\": 40}, {\"County\": \"Madison\", \"Usage Description\": \"Industrial\", \"Building Count\": 35}, {\"County\": \"Kane\", \"Usage Description\": \"Industrial\", \"Building Count\": 30}, {\"County\": \"Fayette\", \"Usage Description\": \"Industrial\", \"Building Count\": 23}, {\"County\": \"Randolph\", \"Usage Description\": \"Mercantile\", \"Building Count\": 10}, {\"County\": \"Sangamon\", \"Usage Description\": \"Mercantile\", \"Building Count\": 4}, {\"County\": \"Vermilion\", \"Usage Description\": \"Mercantile\", \"Building Count\": 4}, {\"County\": \"Champaign\", \"Usage Description\": \"Mercantile\", \"Building Count\": 3}, {\"County\": \"DeKalb\", \"Usage Description\": \"Mercantile\", \"Building Count\": 3}, {\"County\": \"LaSalle\", \"Usage Description\": \"Mercantile\", \"Building Count\": 3}, {\"County\": \"Logan\", \"Usage Description\": \"Mercantile\", \"Building Count\": 3}, {\"County\": \"Marion\", \"Usage Description\": \"Mercantile\", \"Building Count\": 3}, {\"County\": \"Adams\", \"Usage Description\": \"Mercantile\", \"Building Count\": 2}, {\"County\": \"Cook\", \"Usage Description\": \"Mercantile\", \"Building Count\": 2}, {\"County\": \"Morgan\", \"Usage Description\": \"Not provided\", \"Building Count\": 1}, {\"County\": \"Hamilton\", \"Usage Description\": \"Public\", \"Building Count\": 1}, {\"County\": \"Jersey\", \"Usage Description\": \"Residential\", \"Building Count\": 100}, {\"County\": \"Jackson\", \"Usage Description\": \"Residential\", \"Building Count\": 90}, {\"County\": \"LaSalle\", \"Usage Description\": \"Residential\", \"Building Count\": 33}, {\"County\": \"Sangamon\", \"Usage Description\": \"Residential\", \"Building Count\": 29}, {\"County\": \"Cass\", \"Usage Description\": \"Residential\", \"Building Count\": 19}, {\"County\": \"Jefferson\", \"Usage Description\": \"Residential\", \"Building Count\": 19}, {\"County\": \"Ogle\", \"Usage Description\": \"Residential\", \"Building Count\": 19}, {\"County\": \"McHenry\", \"Usage Description\": \"Residential\", \"Building Count\": 18}, {\"County\": \"Randolph\", \"Usage Description\": \"Residential\", \"Building Count\": 17}, {\"County\": \"Will\", \"Usage Description\": \"Residential\", \"Building Count\": 16}, {\"County\": \"Sangamon\", \"Usage Description\": \"Storage\", \"Building Count\": 171}, {\"County\": \"Jackson\", \"Usage Description\": \"Storage\", \"Building Count\": 107}, {\"County\": \"Champaign\", \"Usage Description\": \"Storage\", \"Building Count\": 89}, {\"County\": \"Cook\", \"Usage Description\": \"Storage\", \"Building Count\": 84}, {\"County\": \"Will\", \"Usage Description\": \"Storage\", \"Building Count\": 73}, {\"County\": \"Peoria\", \"Usage Description\": \"Storage\", \"Building Count\": 63}, {\"County\": \"Randolph\", \"Usage Description\": \"Storage\", \"Building Count\": 61}, {\"County\": \"McLean\", \"Usage Description\": \"Storage\", \"Building Count\": 58}, {\"County\": \"LaSalle\", \"Usage Description\": \"Storage\", \"Building Count\": 54}, {\"County\": \"Fayette\", \"Usage Description\": \"Storage\", \"Building Count\": 50}, {\"County\": \"Jackson\", \"Usage Description\": \"Unusual\", \"Building Count\": 115}, {\"County\": \"LaSalle\", \"Usage Description\": \"Unusual\", \"Building Count\": 79}, {\"County\": \"Randolph\", \"Usage Description\": \"Unusual\", \"Building Count\": 79}, {\"County\": \"Jefferson\", \"Usage Description\": \"Unusual\", \"Building Count\": 56}, {\"County\": \"McHenry\", \"Usage Description\": \"Unusual\", \"Building Count\": 52}, {\"County\": \"Vermilion\", \"Usage Description\": \"Unusual\", \"Building Count\": 51}, {\"County\": \"Jersey\", \"Usage Description\": \"Unusual\", \"Building Count\": 48}, {\"County\": \"Sangamon\", \"Usage Description\": \"Unusual\", \"Building Count\": 45}, {\"County\": \"Clinton\", \"Usage Description\": \"Unusual\", \"Building Count\": 42}, {\"County\": \"McLean\", \"Usage Description\": \"Unusual\", \"Building Count\": 39}, {\"County\": \"Grundy\", \"Usage Description\": \"Utiility & Miscellan\", \"Building Count\": 3}, {\"County\": \"Madison\", \"Usage Description\": \"Utiility & Miscellan\", \"Building Count\": 2}, {\"County\": \"Effingham\", \"Usage Description\": \"Utiility & Miscellan\", \"Building Count\": 1}, {\"County\": \"Iroquois\", \"Usage Description\": \"Utiility & Miscellan\", \"Building Count\": 1}, {\"County\": \"Rock Island\", \"Usage Description\": \"Utiility & Miscellan\", \"Building Count\": 1}, {\"County\": \"Tazewell\", \"Usage Description\": \"Utiility & Miscellan\", \"Building Count\": 1}, {\"County\": \"Will\", \"Usage Description\": \"Utiility & Miscellan\", \"Building Count\": 1}]}}, {\"mode\": \"vega-lite\"});\n",
       "</script>"
      ],
      "text/plain": [
       "alt.Chart(...)"
      ]
     },
     "execution_count": 15,
     "metadata": {},
     "output_type": "execute_result"
    }
   ],
   "source": [
    "# Create dropdown for filtering by Usage Description\n",
    "usage_dropdown = alt.binding_select(options=df['Usage Description'].unique(), name='Filter by Usage:')\n",
    "usage_selection = alt.selection_point(fields=['Usage Description'], bind=usage_dropdown)\n",
    "\n",
    "# Aggregate data for the bar chart\n",
    "county_data = df.groupby(['County', 'Usage Description']).size().reset_index(name='Building Count')\n",
    "\n",
    "# Filter the top 10 counties for each Usage Description\n",
    "top_counties = county_data.groupby('Usage Description', group_keys=False).apply(\n",
    "    lambda x: x.nlargest(10, 'Building Count')\n",
    ")\n",
    "\n",
    "# Create interactive bar chart\n",
    "top_county_bar_chart = alt.Chart(top_counties).mark_bar().encode(\n",
    "    x=alt.X('Building Count:Q', title='Number of Buildings'),\n",
    "    y=alt.Y('County:N', sort='-x', title='County'),\n",
    "    color=alt.Color('Usage Description:N', title='Usage Description'),\n",
    "    tooltip=['County', 'Building Count', 'Usage Description']\n",
    ").add_selection(\n",
    "    usage_selection\n",
    ").transform_filter(\n",
    "    usage_selection\n",
    ").properties(\n",
    "    title=\"Interactive Top 10 Counties by Building Count (Filtered by Usage Description)\",\n",
    "    width=700,\n",
    "    height=400\n",
    ")\n",
    "\n",
    "# Save the chart as an HTML file\n",
    "top_county_bar_chart.save(\"C:\\\\Users\\\\naren\\\\Desktop\\\\Data visualisation Files\\\\interactive_bar chart.json\")\n",
    "\n",
    "top_county_bar_chart"
   ]
  }
 ],
 "metadata": {
  "kernelspec": {
   "display_name": "Python 3",
   "language": "python",
   "name": "python3"
  },
  "language_info": {
   "codemirror_mode": {
    "name": "ipython",
    "version": 3
   },
   "file_extension": ".py",
   "mimetype": "text/x-python",
   "name": "python",
   "nbconvert_exporter": "python",
   "pygments_lexer": "ipython3",
   "version": "3.11.4"
  }
 },
 "nbformat": 4,
 "nbformat_minor": 2
}
